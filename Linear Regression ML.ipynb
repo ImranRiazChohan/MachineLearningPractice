{
 "cells": [
  {
   "cell_type": "code",
   "execution_count": 1,
   "metadata": {},
   "outputs": [
    {
     "name": "stderr",
     "output_type": "stream",
     "text": [
      "C:\\Users\\chohan\\anaconda3\\lib\\importlib\\_bootstrap.py:219: RuntimeWarning: numpy.ufunc size changed, may indicate binary incompatibility. Expected 192 from C header, got 216 from PyObject\n",
      "  return f(*args, **kwds)\n",
      "C:\\Users\\chohan\\anaconda3\\lib\\importlib\\_bootstrap.py:219: RuntimeWarning: numpy.ufunc size changed, may indicate binary incompatibility. Expected 192 from C header, got 216 from PyObject\n",
      "  return f(*args, **kwds)\n"
     ]
    }
   ],
   "source": [
    "import pandas as pd\n",
    "import numpy as np\n",
    "import matplotlib.pyplot as plt\n",
    "import seaborn as sns\n",
    "from sklearn.model_selection import train_test_split\n",
    "from sklearn.linear_model import LinearRegression\n",
    "from sklearn.preprocessing import StandardScaler\n",
    "from sklearn.ensemble import RandomForestRegressor\n",
    "from sklearn.metrics import r2_score,mean_squared_error,mean_absolute_error"
   ]
  },
  {
   "cell_type": "code",
   "execution_count": 2,
   "metadata": {},
   "outputs": [],
   "source": [
    "Data=pd.read_csv(\"/Users/chohan/Desktop/Machine Learning Problems/DataSets/Boston_housing_Dataset.csv\",delimiter=',')"
   ]
  },
  {
   "cell_type": "code",
   "execution_count": 3,
   "metadata": {},
   "outputs": [
    {
     "data": {
      "text/html": [
       "<div>\n",
       "<style scoped>\n",
       "    .dataframe tbody tr th:only-of-type {\n",
       "        vertical-align: middle;\n",
       "    }\n",
       "\n",
       "    .dataframe tbody tr th {\n",
       "        vertical-align: top;\n",
       "    }\n",
       "\n",
       "    .dataframe thead th {\n",
       "        text-align: right;\n",
       "    }\n",
       "</style>\n",
       "<table border=\"1\" class=\"dataframe\">\n",
       "  <thead>\n",
       "    <tr style=\"text-align: right;\">\n",
       "      <th></th>\n",
       "      <th>CRIM</th>\n",
       "      <th>ZN</th>\n",
       "      <th>INDUS</th>\n",
       "      <th>CHAS</th>\n",
       "      <th>NOX</th>\n",
       "      <th>RM</th>\n",
       "      <th>AGE</th>\n",
       "      <th>DIS</th>\n",
       "      <th>RAD</th>\n",
       "      <th>TAX</th>\n",
       "      <th>PTRATIO</th>\n",
       "      <th>B</th>\n",
       "      <th>LSTAT</th>\n",
       "      <th>MEDV</th>\n",
       "    </tr>\n",
       "  </thead>\n",
       "  <tbody>\n",
       "    <tr>\n",
       "      <th>0</th>\n",
       "      <td>0.00632</td>\n",
       "      <td>18.0</td>\n",
       "      <td>2.31</td>\n",
       "      <td>0</td>\n",
       "      <td>0.538</td>\n",
       "      <td>6.575</td>\n",
       "      <td>65.2</td>\n",
       "      <td>4.0900</td>\n",
       "      <td>1</td>\n",
       "      <td>296</td>\n",
       "      <td>15.3</td>\n",
       "      <td>396.90</td>\n",
       "      <td>4.98</td>\n",
       "      <td>24.0</td>\n",
       "    </tr>\n",
       "    <tr>\n",
       "      <th>1</th>\n",
       "      <td>0.02731</td>\n",
       "      <td>0.0</td>\n",
       "      <td>7.07</td>\n",
       "      <td>0</td>\n",
       "      <td>0.469</td>\n",
       "      <td>6.421</td>\n",
       "      <td>78.9</td>\n",
       "      <td>4.9671</td>\n",
       "      <td>2</td>\n",
       "      <td>242</td>\n",
       "      <td>17.8</td>\n",
       "      <td>396.90</td>\n",
       "      <td>9.14</td>\n",
       "      <td>21.6</td>\n",
       "    </tr>\n",
       "    <tr>\n",
       "      <th>2</th>\n",
       "      <td>0.02729</td>\n",
       "      <td>0.0</td>\n",
       "      <td>7.07</td>\n",
       "      <td>0</td>\n",
       "      <td>0.469</td>\n",
       "      <td>7.185</td>\n",
       "      <td>61.1</td>\n",
       "      <td>4.9671</td>\n",
       "      <td>2</td>\n",
       "      <td>242</td>\n",
       "      <td>17.8</td>\n",
       "      <td>392.83</td>\n",
       "      <td>4.03</td>\n",
       "      <td>34.7</td>\n",
       "    </tr>\n",
       "    <tr>\n",
       "      <th>3</th>\n",
       "      <td>0.03237</td>\n",
       "      <td>0.0</td>\n",
       "      <td>2.18</td>\n",
       "      <td>0</td>\n",
       "      <td>0.458</td>\n",
       "      <td>6.998</td>\n",
       "      <td>45.8</td>\n",
       "      <td>6.0622</td>\n",
       "      <td>3</td>\n",
       "      <td>222</td>\n",
       "      <td>18.7</td>\n",
       "      <td>394.63</td>\n",
       "      <td>2.94</td>\n",
       "      <td>33.4</td>\n",
       "    </tr>\n",
       "    <tr>\n",
       "      <th>4</th>\n",
       "      <td>0.06905</td>\n",
       "      <td>0.0</td>\n",
       "      <td>2.18</td>\n",
       "      <td>0</td>\n",
       "      <td>0.458</td>\n",
       "      <td>7.147</td>\n",
       "      <td>54.2</td>\n",
       "      <td>6.0622</td>\n",
       "      <td>3</td>\n",
       "      <td>222</td>\n",
       "      <td>18.7</td>\n",
       "      <td>396.90</td>\n",
       "      <td>5.33</td>\n",
       "      <td>36.2</td>\n",
       "    </tr>\n",
       "  </tbody>\n",
       "</table>\n",
       "</div>"
      ],
      "text/plain": [
       "      CRIM    ZN  INDUS  CHAS    NOX     RM   AGE     DIS  RAD  TAX  PTRATIO  \\\n",
       "0  0.00632  18.0   2.31     0  0.538  6.575  65.2  4.0900    1  296     15.3   \n",
       "1  0.02731   0.0   7.07     0  0.469  6.421  78.9  4.9671    2  242     17.8   \n",
       "2  0.02729   0.0   7.07     0  0.469  7.185  61.1  4.9671    2  242     17.8   \n",
       "3  0.03237   0.0   2.18     0  0.458  6.998  45.8  6.0622    3  222     18.7   \n",
       "4  0.06905   0.0   2.18     0  0.458  7.147  54.2  6.0622    3  222     18.7   \n",
       "\n",
       "        B  LSTAT  MEDV  \n",
       "0  396.90   4.98  24.0  \n",
       "1  396.90   9.14  21.6  \n",
       "2  392.83   4.03  34.7  \n",
       "3  394.63   2.94  33.4  \n",
       "4  396.90   5.33  36.2  "
      ]
     },
     "execution_count": 3,
     "metadata": {},
     "output_type": "execute_result"
    }
   ],
   "source": [
    "Data.head()"
   ]
  },
  {
   "cell_type": "code",
   "execution_count": 4,
   "metadata": {},
   "outputs": [
    {
     "name": "stdout",
     "output_type": "stream",
     "text": [
      "<class 'pandas.core.frame.DataFrame'>\n",
      "RangeIndex: 511 entries, 0 to 510\n",
      "Data columns (total 14 columns):\n",
      " #   Column   Non-Null Count  Dtype  \n",
      "---  ------   --------------  -----  \n",
      " 0   CRIM     511 non-null    float64\n",
      " 1   ZN       511 non-null    float64\n",
      " 2   INDUS    511 non-null    float64\n",
      " 3   CHAS     511 non-null    int64  \n",
      " 4   NOX      511 non-null    float64\n",
      " 5   RM       506 non-null    float64\n",
      " 6   AGE      511 non-null    float64\n",
      " 7   DIS      511 non-null    float64\n",
      " 8   RAD      511 non-null    int64  \n",
      " 9   TAX      511 non-null    int64  \n",
      " 10  PTRATIO  511 non-null    float64\n",
      " 11  B        511 non-null    float64\n",
      " 12  LSTAT    511 non-null    float64\n",
      " 13  MEDV     511 non-null    float64\n",
      "dtypes: float64(11), int64(3)\n",
      "memory usage: 56.0 KB\n"
     ]
    }
   ],
   "source": [
    "Data.info()"
   ]
  },
  {
   "cell_type": "code",
   "execution_count": 5,
   "metadata": {},
   "outputs": [
    {
     "data": {
      "text/html": [
       "<div>\n",
       "<style scoped>\n",
       "    .dataframe tbody tr th:only-of-type {\n",
       "        vertical-align: middle;\n",
       "    }\n",
       "\n",
       "    .dataframe tbody tr th {\n",
       "        vertical-align: top;\n",
       "    }\n",
       "\n",
       "    .dataframe thead th {\n",
       "        text-align: right;\n",
       "    }\n",
       "</style>\n",
       "<table border=\"1\" class=\"dataframe\">\n",
       "  <thead>\n",
       "    <tr style=\"text-align: right;\">\n",
       "      <th></th>\n",
       "      <th>CRIM</th>\n",
       "      <th>ZN</th>\n",
       "      <th>INDUS</th>\n",
       "      <th>CHAS</th>\n",
       "      <th>NOX</th>\n",
       "      <th>RM</th>\n",
       "      <th>AGE</th>\n",
       "      <th>DIS</th>\n",
       "      <th>RAD</th>\n",
       "      <th>TAX</th>\n",
       "      <th>PTRATIO</th>\n",
       "      <th>B</th>\n",
       "      <th>LSTAT</th>\n",
       "      <th>MEDV</th>\n",
       "    </tr>\n",
       "  </thead>\n",
       "  <tbody>\n",
       "    <tr>\n",
       "      <th>count</th>\n",
       "      <td>511.000000</td>\n",
       "      <td>511.000000</td>\n",
       "      <td>511.000000</td>\n",
       "      <td>511.000000</td>\n",
       "      <td>511.000000</td>\n",
       "      <td>506.000000</td>\n",
       "      <td>511.000000</td>\n",
       "      <td>511.000000</td>\n",
       "      <td>511.000000</td>\n",
       "      <td>511.000000</td>\n",
       "      <td>511.000000</td>\n",
       "      <td>511.000000</td>\n",
       "      <td>511.000000</td>\n",
       "      <td>511.000000</td>\n",
       "    </tr>\n",
       "    <tr>\n",
       "      <th>mean</th>\n",
       "      <td>3.584139</td>\n",
       "      <td>11.252446</td>\n",
       "      <td>11.151096</td>\n",
       "      <td>0.068493</td>\n",
       "      <td>0.554757</td>\n",
       "      <td>6.287589</td>\n",
       "      <td>68.616243</td>\n",
       "      <td>3.783876</td>\n",
       "      <td>9.485323</td>\n",
       "      <td>407.440313</td>\n",
       "      <td>18.500000</td>\n",
       "      <td>356.600900</td>\n",
       "      <td>12.879550</td>\n",
       "      <td>22.682192</td>\n",
       "    </tr>\n",
       "    <tr>\n",
       "      <th>std</th>\n",
       "      <td>8.564433</td>\n",
       "      <td>23.234838</td>\n",
       "      <td>6.828175</td>\n",
       "      <td>0.252838</td>\n",
       "      <td>0.115310</td>\n",
       "      <td>0.703802</td>\n",
       "      <td>28.099130</td>\n",
       "      <td>2.098631</td>\n",
       "      <td>8.688469</td>\n",
       "      <td>167.903532</td>\n",
       "      <td>2.200348</td>\n",
       "      <td>90.882679</td>\n",
       "      <td>7.797416</td>\n",
       "      <td>9.484262</td>\n",
       "    </tr>\n",
       "    <tr>\n",
       "      <th>min</th>\n",
       "      <td>0.006320</td>\n",
       "      <td>0.000000</td>\n",
       "      <td>0.460000</td>\n",
       "      <td>0.000000</td>\n",
       "      <td>0.385000</td>\n",
       "      <td>3.561000</td>\n",
       "      <td>2.900000</td>\n",
       "      <td>1.129600</td>\n",
       "      <td>1.000000</td>\n",
       "      <td>187.000000</td>\n",
       "      <td>12.600000</td>\n",
       "      <td>0.320000</td>\n",
       "      <td>1.730000</td>\n",
       "      <td>5.000000</td>\n",
       "    </tr>\n",
       "    <tr>\n",
       "      <th>25%</th>\n",
       "      <td>0.082325</td>\n",
       "      <td>0.000000</td>\n",
       "      <td>5.190000</td>\n",
       "      <td>0.000000</td>\n",
       "      <td>0.449000</td>\n",
       "      <td>5.885500</td>\n",
       "      <td>45.050000</td>\n",
       "      <td>2.100350</td>\n",
       "      <td>4.000000</td>\n",
       "      <td>279.500000</td>\n",
       "      <td>17.400000</td>\n",
       "      <td>374.710000</td>\n",
       "      <td>7.065000</td>\n",
       "      <td>17.050000</td>\n",
       "    </tr>\n",
       "    <tr>\n",
       "      <th>50%</th>\n",
       "      <td>0.261690</td>\n",
       "      <td>0.000000</td>\n",
       "      <td>9.690000</td>\n",
       "      <td>0.000000</td>\n",
       "      <td>0.538000</td>\n",
       "      <td>6.209000</td>\n",
       "      <td>77.300000</td>\n",
       "      <td>3.152300</td>\n",
       "      <td>5.000000</td>\n",
       "      <td>330.000000</td>\n",
       "      <td>19.100000</td>\n",
       "      <td>391.340000</td>\n",
       "      <td>11.450000</td>\n",
       "      <td>21.200000</td>\n",
       "    </tr>\n",
       "    <tr>\n",
       "      <th>75%</th>\n",
       "      <td>3.621175</td>\n",
       "      <td>12.500000</td>\n",
       "      <td>18.100000</td>\n",
       "      <td>0.000000</td>\n",
       "      <td>0.624000</td>\n",
       "      <td>6.629750</td>\n",
       "      <td>94.050000</td>\n",
       "      <td>5.118000</td>\n",
       "      <td>24.000000</td>\n",
       "      <td>666.000000</td>\n",
       "      <td>20.200000</td>\n",
       "      <td>396.210000</td>\n",
       "      <td>17.105000</td>\n",
       "      <td>25.000000</td>\n",
       "    </tr>\n",
       "    <tr>\n",
       "      <th>max</th>\n",
       "      <td>88.976200</td>\n",
       "      <td>100.000000</td>\n",
       "      <td>27.740000</td>\n",
       "      <td>1.000000</td>\n",
       "      <td>0.871000</td>\n",
       "      <td>8.780000</td>\n",
       "      <td>100.000000</td>\n",
       "      <td>12.126500</td>\n",
       "      <td>24.000000</td>\n",
       "      <td>711.000000</td>\n",
       "      <td>23.000000</td>\n",
       "      <td>396.900000</td>\n",
       "      <td>76.000000</td>\n",
       "      <td>67.000000</td>\n",
       "    </tr>\n",
       "  </tbody>\n",
       "</table>\n",
       "</div>"
      ],
      "text/plain": [
       "             CRIM          ZN       INDUS        CHAS         NOX          RM  \\\n",
       "count  511.000000  511.000000  511.000000  511.000000  511.000000  506.000000   \n",
       "mean     3.584139   11.252446   11.151096    0.068493    0.554757    6.287589   \n",
       "std      8.564433   23.234838    6.828175    0.252838    0.115310    0.703802   \n",
       "min      0.006320    0.000000    0.460000    0.000000    0.385000    3.561000   \n",
       "25%      0.082325    0.000000    5.190000    0.000000    0.449000    5.885500   \n",
       "50%      0.261690    0.000000    9.690000    0.000000    0.538000    6.209000   \n",
       "75%      3.621175   12.500000   18.100000    0.000000    0.624000    6.629750   \n",
       "max     88.976200  100.000000   27.740000    1.000000    0.871000    8.780000   \n",
       "\n",
       "              AGE         DIS         RAD         TAX     PTRATIO           B  \\\n",
       "count  511.000000  511.000000  511.000000  511.000000  511.000000  511.000000   \n",
       "mean    68.616243    3.783876    9.485323  407.440313   18.500000  356.600900   \n",
       "std     28.099130    2.098631    8.688469  167.903532    2.200348   90.882679   \n",
       "min      2.900000    1.129600    1.000000  187.000000   12.600000    0.320000   \n",
       "25%     45.050000    2.100350    4.000000  279.500000   17.400000  374.710000   \n",
       "50%     77.300000    3.152300    5.000000  330.000000   19.100000  391.340000   \n",
       "75%     94.050000    5.118000   24.000000  666.000000   20.200000  396.210000   \n",
       "max    100.000000   12.126500   24.000000  711.000000   23.000000  396.900000   \n",
       "\n",
       "            LSTAT        MEDV  \n",
       "count  511.000000  511.000000  \n",
       "mean    12.879550   22.682192  \n",
       "std      7.797416    9.484262  \n",
       "min      1.730000    5.000000  \n",
       "25%      7.065000   17.050000  \n",
       "50%     11.450000   21.200000  \n",
       "75%     17.105000   25.000000  \n",
       "max     76.000000   67.000000  "
      ]
     },
     "execution_count": 5,
     "metadata": {},
     "output_type": "execute_result"
    }
   ],
   "source": [
    "Data.describe()"
   ]
  },
  {
   "cell_type": "code",
   "execution_count": 6,
   "metadata": {},
   "outputs": [
    {
     "data": {
      "text/plain": [
       "CRIM       0\n",
       "ZN         0\n",
       "INDUS      0\n",
       "CHAS       0\n",
       "NOX        0\n",
       "RM         5\n",
       "AGE        0\n",
       "DIS        0\n",
       "RAD        0\n",
       "TAX        0\n",
       "PTRATIO    0\n",
       "B          0\n",
       "LSTAT      0\n",
       "MEDV       0\n",
       "dtype: int64"
      ]
     },
     "execution_count": 6,
     "metadata": {},
     "output_type": "execute_result"
    }
   ],
   "source": [
    "Data.isnull().sum()"
   ]
  },
  {
   "cell_type": "code",
   "execution_count": 7,
   "metadata": {},
   "outputs": [
    {
     "data": {
      "text/plain": [
       "CRIM       0\n",
       "ZN         0\n",
       "INDUS      0\n",
       "CHAS       0\n",
       "NOX        0\n",
       "RM         5\n",
       "AGE        0\n",
       "DIS        0\n",
       "RAD        0\n",
       "TAX        0\n",
       "PTRATIO    0\n",
       "B          0\n",
       "LSTAT      0\n",
       "MEDV       0\n",
       "dtype: int64"
      ]
     },
     "execution_count": 7,
     "metadata": {},
     "output_type": "execute_result"
    }
   ],
   "source": [
    "Data.isna().sum()"
   ]
  },
  {
   "cell_type": "code",
   "execution_count": 8,
   "metadata": {},
   "outputs": [
    {
     "data": {
      "text/plain": [
       "CRIM       float64\n",
       "ZN         float64\n",
       "INDUS      float64\n",
       "CHAS         int64\n",
       "NOX        float64\n",
       "RM         float64\n",
       "AGE        float64\n",
       "DIS        float64\n",
       "RAD          int64\n",
       "TAX          int64\n",
       "PTRATIO    float64\n",
       "B          float64\n",
       "LSTAT      float64\n",
       "MEDV       float64\n",
       "dtype: object"
      ]
     },
     "execution_count": 8,
     "metadata": {},
     "output_type": "execute_result"
    }
   ],
   "source": [
    "Data.dtypes"
   ]
  },
  {
   "cell_type": "code",
   "execution_count": 9,
   "metadata": {},
   "outputs": [
    {
     "data": {
      "text/plain": [
       "Index(['CRIM', 'ZN', 'INDUS', 'CHAS', 'NOX', 'RM', 'AGE', 'DIS', 'RAD', 'TAX',\n",
       "       'PTRATIO', 'B', 'LSTAT', 'MEDV'],\n",
       "      dtype='object')"
      ]
     },
     "execution_count": 9,
     "metadata": {},
     "output_type": "execute_result"
    }
   ],
   "source": [
    "Data.columns"
   ]
  },
  {
   "cell_type": "code",
   "execution_count": 10,
   "metadata": {},
   "outputs": [
    {
     "data": {
      "text/plain": [
       "(511, 14)"
      ]
     },
     "execution_count": 10,
     "metadata": {},
     "output_type": "execute_result"
    }
   ],
   "source": [
    "Data.shape"
   ]
  },
  {
   "cell_type": "code",
   "execution_count": 11,
   "metadata": {},
   "outputs": [],
   "source": [
    "Data=Data.dropna()\n"
   ]
  },
  {
   "cell_type": "code",
   "execution_count": 12,
   "metadata": {},
   "outputs": [],
   "source": [
    "Data=Data.rename(columns={\"MEDV\":\"Price\"})"
   ]
  },
  {
   "cell_type": "code",
   "execution_count": 13,
   "metadata": {},
   "outputs": [
    {
     "data": {
      "text/html": [
       "<div>\n",
       "<style scoped>\n",
       "    .dataframe tbody tr th:only-of-type {\n",
       "        vertical-align: middle;\n",
       "    }\n",
       "\n",
       "    .dataframe tbody tr th {\n",
       "        vertical-align: top;\n",
       "    }\n",
       "\n",
       "    .dataframe thead th {\n",
       "        text-align: right;\n",
       "    }\n",
       "</style>\n",
       "<table border=\"1\" class=\"dataframe\">\n",
       "  <thead>\n",
       "    <tr style=\"text-align: right;\">\n",
       "      <th></th>\n",
       "      <th>CRIM</th>\n",
       "      <th>ZN</th>\n",
       "      <th>INDUS</th>\n",
       "      <th>CHAS</th>\n",
       "      <th>NOX</th>\n",
       "      <th>RM</th>\n",
       "      <th>AGE</th>\n",
       "      <th>DIS</th>\n",
       "      <th>RAD</th>\n",
       "      <th>TAX</th>\n",
       "      <th>PTRATIO</th>\n",
       "      <th>B</th>\n",
       "      <th>LSTAT</th>\n",
       "      <th>Price</th>\n",
       "    </tr>\n",
       "  </thead>\n",
       "  <tbody>\n",
       "    <tr>\n",
       "      <th>CRIM</th>\n",
       "      <td>1.000000</td>\n",
       "      <td>-0.199418</td>\n",
       "      <td>0.406479</td>\n",
       "      <td>-0.056024</td>\n",
       "      <td>0.420170</td>\n",
       "      <td>-0.220363</td>\n",
       "      <td>0.352817</td>\n",
       "      <td>-0.377904</td>\n",
       "      <td>0.625407</td>\n",
       "      <td>0.582884</td>\n",
       "      <td>0.278265</td>\n",
       "      <td>-0.383363</td>\n",
       "      <td>0.406266</td>\n",
       "      <td>-0.381994</td>\n",
       "    </tr>\n",
       "    <tr>\n",
       "      <th>ZN</th>\n",
       "      <td>-0.199418</td>\n",
       "      <td>1.000000</td>\n",
       "      <td>-0.536888</td>\n",
       "      <td>-0.041824</td>\n",
       "      <td>-0.517737</td>\n",
       "      <td>0.307812</td>\n",
       "      <td>-0.567952</td>\n",
       "      <td>0.666410</td>\n",
       "      <td>-0.309652</td>\n",
       "      <td>-0.312901</td>\n",
       "      <td>-0.394101</td>\n",
       "      <td>0.176625</td>\n",
       "      <td>-0.390730</td>\n",
       "      <td>0.339327</td>\n",
       "    </tr>\n",
       "    <tr>\n",
       "      <th>INDUS</th>\n",
       "      <td>0.406479</td>\n",
       "      <td>-0.536888</td>\n",
       "      <td>1.000000</td>\n",
       "      <td>0.061746</td>\n",
       "      <td>0.762864</td>\n",
       "      <td>-0.392193</td>\n",
       "      <td>0.644182</td>\n",
       "      <td>-0.709589</td>\n",
       "      <td>0.594344</td>\n",
       "      <td>0.718784</td>\n",
       "      <td>0.378739</td>\n",
       "      <td>-0.357787</td>\n",
       "      <td>0.558093</td>\n",
       "      <td>-0.466094</td>\n",
       "    </tr>\n",
       "    <tr>\n",
       "      <th>CHAS</th>\n",
       "      <td>-0.056024</td>\n",
       "      <td>-0.041824</td>\n",
       "      <td>0.061746</td>\n",
       "      <td>1.000000</td>\n",
       "      <td>0.090200</td>\n",
       "      <td>0.089952</td>\n",
       "      <td>0.086664</td>\n",
       "      <td>-0.097049</td>\n",
       "      <td>-0.006803</td>\n",
       "      <td>-0.035770</td>\n",
       "      <td>-0.124780</td>\n",
       "      <td>0.050143</td>\n",
       "      <td>-0.056881</td>\n",
       "      <td>0.164175</td>\n",
       "    </tr>\n",
       "    <tr>\n",
       "      <th>NOX</th>\n",
       "      <td>0.420170</td>\n",
       "      <td>-0.517737</td>\n",
       "      <td>0.762864</td>\n",
       "      <td>0.090200</td>\n",
       "      <td>1.000000</td>\n",
       "      <td>-0.301778</td>\n",
       "      <td>0.730640</td>\n",
       "      <td>-0.770167</td>\n",
       "      <td>0.609839</td>\n",
       "      <td>0.665914</td>\n",
       "      <td>0.185864</td>\n",
       "      <td>-0.379523</td>\n",
       "      <td>0.540542</td>\n",
       "      <td>-0.412974</td>\n",
       "    </tr>\n",
       "    <tr>\n",
       "      <th>RM</th>\n",
       "      <td>-0.220363</td>\n",
       "      <td>0.307812</td>\n",
       "      <td>-0.392193</td>\n",
       "      <td>0.089952</td>\n",
       "      <td>-0.301778</td>\n",
       "      <td>1.000000</td>\n",
       "      <td>-0.237335</td>\n",
       "      <td>0.199853</td>\n",
       "      <td>-0.213078</td>\n",
       "      <td>-0.293969</td>\n",
       "      <td>-0.339755</td>\n",
       "      <td>0.127888</td>\n",
       "      <td>-0.553126</td>\n",
       "      <td>0.667695</td>\n",
       "    </tr>\n",
       "    <tr>\n",
       "      <th>AGE</th>\n",
       "      <td>0.352817</td>\n",
       "      <td>-0.567952</td>\n",
       "      <td>0.644182</td>\n",
       "      <td>0.086664</td>\n",
       "      <td>0.730640</td>\n",
       "      <td>-0.237335</td>\n",
       "      <td>1.000000</td>\n",
       "      <td>-0.748698</td>\n",
       "      <td>0.456212</td>\n",
       "      <td>0.505186</td>\n",
       "      <td>0.261170</td>\n",
       "      <td>-0.273739</td>\n",
       "      <td>0.528674</td>\n",
       "      <td>-0.366717</td>\n",
       "    </tr>\n",
       "    <tr>\n",
       "      <th>DIS</th>\n",
       "      <td>-0.377904</td>\n",
       "      <td>0.666410</td>\n",
       "      <td>-0.709589</td>\n",
       "      <td>-0.097049</td>\n",
       "      <td>-0.770167</td>\n",
       "      <td>0.199853</td>\n",
       "      <td>-0.748698</td>\n",
       "      <td>1.000000</td>\n",
       "      <td>-0.491789</td>\n",
       "      <td>-0.530665</td>\n",
       "      <td>-0.237141</td>\n",
       "      <td>0.291309</td>\n",
       "      <td>-0.470697</td>\n",
       "      <td>0.235206</td>\n",
       "    </tr>\n",
       "    <tr>\n",
       "      <th>RAD</th>\n",
       "      <td>0.625407</td>\n",
       "      <td>-0.309652</td>\n",
       "      <td>0.594344</td>\n",
       "      <td>-0.006803</td>\n",
       "      <td>0.609839</td>\n",
       "      <td>-0.213078</td>\n",
       "      <td>0.456212</td>\n",
       "      <td>-0.491789</td>\n",
       "      <td>1.000000</td>\n",
       "      <td>0.910898</td>\n",
       "      <td>0.441336</td>\n",
       "      <td>-0.441338</td>\n",
       "      <td>0.424516</td>\n",
       "      <td>-0.382068</td>\n",
       "    </tr>\n",
       "    <tr>\n",
       "      <th>TAX</th>\n",
       "      <td>0.582884</td>\n",
       "      <td>-0.312901</td>\n",
       "      <td>0.718784</td>\n",
       "      <td>-0.035770</td>\n",
       "      <td>0.665914</td>\n",
       "      <td>-0.293969</td>\n",
       "      <td>0.505186</td>\n",
       "      <td>-0.530665</td>\n",
       "      <td>0.910898</td>\n",
       "      <td>1.000000</td>\n",
       "      <td>0.442510</td>\n",
       "      <td>-0.439917</td>\n",
       "      <td>0.483227</td>\n",
       "      <td>-0.461959</td>\n",
       "    </tr>\n",
       "    <tr>\n",
       "      <th>PTRATIO</th>\n",
       "      <td>0.278265</td>\n",
       "      <td>-0.394101</td>\n",
       "      <td>0.378739</td>\n",
       "      <td>-0.124780</td>\n",
       "      <td>0.185864</td>\n",
       "      <td>-0.339755</td>\n",
       "      <td>0.261170</td>\n",
       "      <td>-0.237141</td>\n",
       "      <td>0.441336</td>\n",
       "      <td>0.442510</td>\n",
       "      <td>1.000000</td>\n",
       "      <td>-0.176542</td>\n",
       "      <td>0.397760</td>\n",
       "      <td>-0.451117</td>\n",
       "    </tr>\n",
       "    <tr>\n",
       "      <th>B</th>\n",
       "      <td>-0.383363</td>\n",
       "      <td>0.176625</td>\n",
       "      <td>-0.357787</td>\n",
       "      <td>0.050143</td>\n",
       "      <td>-0.379523</td>\n",
       "      <td>0.127888</td>\n",
       "      <td>-0.273739</td>\n",
       "      <td>0.291309</td>\n",
       "      <td>-0.441338</td>\n",
       "      <td>-0.439917</td>\n",
       "      <td>-0.176542</td>\n",
       "      <td>1.000000</td>\n",
       "      <td>-0.341055</td>\n",
       "      <td>0.319851</td>\n",
       "    </tr>\n",
       "    <tr>\n",
       "      <th>LSTAT</th>\n",
       "      <td>0.406266</td>\n",
       "      <td>-0.390730</td>\n",
       "      <td>0.558093</td>\n",
       "      <td>-0.056881</td>\n",
       "      <td>0.540542</td>\n",
       "      <td>-0.553126</td>\n",
       "      <td>0.528674</td>\n",
       "      <td>-0.470697</td>\n",
       "      <td>0.424516</td>\n",
       "      <td>0.483227</td>\n",
       "      <td>0.397760</td>\n",
       "      <td>-0.341055</td>\n",
       "      <td>1.000000</td>\n",
       "      <td>-0.562599</td>\n",
       "    </tr>\n",
       "    <tr>\n",
       "      <th>Price</th>\n",
       "      <td>-0.381994</td>\n",
       "      <td>0.339327</td>\n",
       "      <td>-0.466094</td>\n",
       "      <td>0.164175</td>\n",
       "      <td>-0.412974</td>\n",
       "      <td>0.667695</td>\n",
       "      <td>-0.366717</td>\n",
       "      <td>0.235206</td>\n",
       "      <td>-0.382068</td>\n",
       "      <td>-0.461959</td>\n",
       "      <td>-0.451117</td>\n",
       "      <td>0.319851</td>\n",
       "      <td>-0.562599</td>\n",
       "      <td>1.000000</td>\n",
       "    </tr>\n",
       "  </tbody>\n",
       "</table>\n",
       "</div>"
      ],
      "text/plain": [
       "             CRIM        ZN     INDUS      CHAS       NOX        RM       AGE  \\\n",
       "CRIM     1.000000 -0.199418  0.406479 -0.056024  0.420170 -0.220363  0.352817   \n",
       "ZN      -0.199418  1.000000 -0.536888 -0.041824 -0.517737  0.307812 -0.567952   \n",
       "INDUS    0.406479 -0.536888  1.000000  0.061746  0.762864 -0.392193  0.644182   \n",
       "CHAS    -0.056024 -0.041824  0.061746  1.000000  0.090200  0.089952  0.086664   \n",
       "NOX      0.420170 -0.517737  0.762864  0.090200  1.000000 -0.301778  0.730640   \n",
       "RM      -0.220363  0.307812 -0.392193  0.089952 -0.301778  1.000000 -0.237335   \n",
       "AGE      0.352817 -0.567952  0.644182  0.086664  0.730640 -0.237335  1.000000   \n",
       "DIS     -0.377904  0.666410 -0.709589 -0.097049 -0.770167  0.199853 -0.748698   \n",
       "RAD      0.625407 -0.309652  0.594344 -0.006803  0.609839 -0.213078  0.456212   \n",
       "TAX      0.582884 -0.312901  0.718784 -0.035770  0.665914 -0.293969  0.505186   \n",
       "PTRATIO  0.278265 -0.394101  0.378739 -0.124780  0.185864 -0.339755  0.261170   \n",
       "B       -0.383363  0.176625 -0.357787  0.050143 -0.379523  0.127888 -0.273739   \n",
       "LSTAT    0.406266 -0.390730  0.558093 -0.056881  0.540542 -0.553126  0.528674   \n",
       "Price   -0.381994  0.339327 -0.466094  0.164175 -0.412974  0.667695 -0.366717   \n",
       "\n",
       "              DIS       RAD       TAX   PTRATIO         B     LSTAT     Price  \n",
       "CRIM    -0.377904  0.625407  0.582884  0.278265 -0.383363  0.406266 -0.381994  \n",
       "ZN       0.666410 -0.309652 -0.312901 -0.394101  0.176625 -0.390730  0.339327  \n",
       "INDUS   -0.709589  0.594344  0.718784  0.378739 -0.357787  0.558093 -0.466094  \n",
       "CHAS    -0.097049 -0.006803 -0.035770 -0.124780  0.050143 -0.056881  0.164175  \n",
       "NOX     -0.770167  0.609839  0.665914  0.185864 -0.379523  0.540542 -0.412974  \n",
       "RM       0.199853 -0.213078 -0.293969 -0.339755  0.127888 -0.553126  0.667695  \n",
       "AGE     -0.748698  0.456212  0.505186  0.261170 -0.273739  0.528674 -0.366717  \n",
       "DIS      1.000000 -0.491789 -0.530665 -0.237141  0.291309 -0.470697  0.235206  \n",
       "RAD     -0.491789  1.000000  0.910898  0.441336 -0.441338  0.424516 -0.382068  \n",
       "TAX     -0.530665  0.910898  1.000000  0.442510 -0.439917  0.483227 -0.461959  \n",
       "PTRATIO -0.237141  0.441336  0.442510  1.000000 -0.176542  0.397760 -0.451117  \n",
       "B        0.291309 -0.441338 -0.439917 -0.176542  1.000000 -0.341055  0.319851  \n",
       "LSTAT   -0.470697  0.424516  0.483227  0.397760 -0.341055  1.000000 -0.562599  \n",
       "Price    0.235206 -0.382068 -0.461959 -0.451117  0.319851 -0.562599  1.000000  "
      ]
     },
     "execution_count": 13,
     "metadata": {},
     "output_type": "execute_result"
    }
   ],
   "source": [
    "Data.corr()"
   ]
  },
  {
   "cell_type": "code",
   "execution_count": 15,
   "metadata": {},
   "outputs": [],
   "source": [
    "X=Data.iloc[:,0:13]\n",
    "Y=Data.iloc[:,-1]"
   ]
  },
  {
   "cell_type": "code",
   "execution_count": 16,
   "metadata": {},
   "outputs": [
    {
     "data": {
      "text/plain": [
       "(506, 13)"
      ]
     },
     "execution_count": 16,
     "metadata": {},
     "output_type": "execute_result"
    }
   ],
   "source": [
    "np.shape(X)"
   ]
  },
  {
   "cell_type": "code",
   "execution_count": 17,
   "metadata": {},
   "outputs": [
    {
     "data": {
      "text/plain": [
       "(506,)"
      ]
     },
     "execution_count": 17,
     "metadata": {},
     "output_type": "execute_result"
    }
   ],
   "source": [
    "np.shape(Y)"
   ]
  },
  {
   "cell_type": "code",
   "execution_count": 18,
   "metadata": {},
   "outputs": [],
   "source": [
    "x_train,x_test,y_train,y_test=train_test_split(X,Y,test_size=0.20,random_state=0)"
   ]
  },
  {
   "cell_type": "code",
   "execution_count": 19,
   "metadata": {},
   "outputs": [
    {
     "data": {
      "text/plain": [
       "(404, 13)"
      ]
     },
     "execution_count": 19,
     "metadata": {},
     "output_type": "execute_result"
    }
   ],
   "source": [
    "np.shape(x_train)"
   ]
  },
  {
   "cell_type": "code",
   "execution_count": 20,
   "metadata": {},
   "outputs": [
    {
     "data": {
      "text/plain": [
       "(102, 13)"
      ]
     },
     "execution_count": 20,
     "metadata": {},
     "output_type": "execute_result"
    }
   ],
   "source": [
    "np.shape(x_test)"
   ]
  },
  {
   "cell_type": "code",
   "execution_count": 21,
   "metadata": {},
   "outputs": [
    {
     "data": {
      "text/plain": [
       "(404,)"
      ]
     },
     "execution_count": 21,
     "metadata": {},
     "output_type": "execute_result"
    }
   ],
   "source": [
    "np.shape(y_train)"
   ]
  },
  {
   "cell_type": "code",
   "execution_count": 22,
   "metadata": {},
   "outputs": [
    {
     "data": {
      "text/plain": [
       "(102,)"
      ]
     },
     "execution_count": 22,
     "metadata": {},
     "output_type": "execute_result"
    }
   ],
   "source": [
    "np.shape(y_test)"
   ]
  },
  {
   "cell_type": "code",
   "execution_count": 23,
   "metadata": {},
   "outputs": [
    {
     "data": {
      "text/plain": [
       "LinearRegression()"
      ]
     },
     "execution_count": 23,
     "metadata": {},
     "output_type": "execute_result"
    }
   ],
   "source": [
    "Model=LinearRegression()\n",
    "Model.fit(x_train,y_train)"
   ]
  },
  {
   "cell_type": "code",
   "execution_count": 24,
   "metadata": {},
   "outputs": [],
   "source": [
    "predicts=Model.predict(x_train)"
   ]
  },
  {
   "cell_type": "code",
   "execution_count": 26,
   "metadata": {},
   "outputs": [
    {
     "data": {
      "text/plain": [
       "array([-1.49475473e-01,  4.31248675e-02, -3.73144291e-02,  2.32914771e+00,\n",
       "       -1.49650786e+01,  6.73256313e+00, -5.43328480e-02, -1.64880838e+00,\n",
       "        1.99718661e-01, -1.29539586e-02, -7.31333280e-01,  1.21286110e-02,\n",
       "        3.89282047e-03])"
      ]
     },
     "execution_count": 26,
     "metadata": {},
     "output_type": "execute_result"
    }
   ],
   "source": [
    "Model.coef_"
   ]
  },
  {
   "cell_type": "code",
   "execution_count": 27,
   "metadata": {},
   "outputs": [
    {
     "data": {
      "text/plain": [
       "11.512454527895704"
      ]
     },
     "execution_count": 27,
     "metadata": {},
     "output_type": "execute_result"
    }
   ],
   "source": [
    "Model.intercept_"
   ]
  },
  {
   "cell_type": "code",
   "execution_count": 28,
   "metadata": {},
   "outputs": [
    {
     "data": {
      "text/plain": [
       "64.98793665248861"
      ]
     },
     "execution_count": 28,
     "metadata": {},
     "output_type": "execute_result"
    }
   ],
   "source": [
    "Model.score(x_train,y_train)*100"
   ]
  },
  {
   "cell_type": "code",
   "execution_count": 29,
   "metadata": {},
   "outputs": [
    {
     "data": {
      "text/plain": [
       "46.40712846111922"
      ]
     },
     "execution_count": 29,
     "metadata": {},
     "output_type": "execute_result"
    }
   ],
   "source": [
    "Model.score(x_test,y_test)*100"
   ]
  },
  {
   "cell_type": "code",
   "execution_count": 30,
   "metadata": {},
   "outputs": [
    {
     "data": {
      "text/plain": [
       "62.23856136694151"
      ]
     },
     "execution_count": 30,
     "metadata": {},
     "output_type": "execute_result"
    }
   ],
   "source": [
    "r2_score(Y,Model.predict(X))*100"
   ]
  },
  {
   "cell_type": "code",
   "execution_count": 31,
   "metadata": {},
   "outputs": [
    {
     "data": {
      "text/plain": [
       "RandomForestRegressor()"
      ]
     },
     "execution_count": 31,
     "metadata": {},
     "output_type": "execute_result"
    }
   ],
   "source": [
    "Model=RandomForestRegressor()\n",
    "Model.fit(x_train,y_train)"
   ]
  },
  {
   "cell_type": "code",
   "execution_count": 32,
   "metadata": {},
   "outputs": [],
   "source": [
    "predicts=Model.predict(x_train)"
   ]
  },
  {
   "cell_type": "code",
   "execution_count": 35,
   "metadata": {},
   "outputs": [
    {
     "data": {
      "text/plain": [
       "97.21790157998603"
      ]
     },
     "execution_count": 35,
     "metadata": {},
     "output_type": "execute_result"
    }
   ],
   "source": [
    "Model.score(x_train,y_train)*100"
   ]
  },
  {
   "cell_type": "code",
   "execution_count": 36,
   "metadata": {},
   "outputs": [
    {
     "data": {
      "text/plain": [
       "84.13484211881138"
      ]
     },
     "execution_count": 36,
     "metadata": {},
     "output_type": "execute_result"
    }
   ],
   "source": [
    "Model.score(x_test,y_test)*100"
   ]
  },
  {
   "cell_type": "code",
   "execution_count": null,
   "metadata": {},
   "outputs": [],
   "source": []
  }
 ],
 "metadata": {
  "kernelspec": {
   "display_name": "Python 3",
   "language": "python",
   "name": "python3"
  },
  "language_info": {
   "codemirror_mode": {
    "name": "ipython",
    "version": 3
   },
   "file_extension": ".py",
   "mimetype": "text/x-python",
   "name": "python",
   "nbconvert_exporter": "python",
   "pygments_lexer": "ipython3",
   "version": "3.7.7"
  }
 },
 "nbformat": 4,
 "nbformat_minor": 4
}
